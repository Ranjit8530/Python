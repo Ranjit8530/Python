{
 "cells": [
  {
   "cell_type": "code",
   "execution_count": 12,
   "id": "133df4ae-815d-4cf1-aa46-163799dd3d72",
   "metadata": {},
   "outputs": [
    {
     "name": "stdout",
     "output_type": "stream",
     "text": [
      "Element 7 found at index 2\n"
     ]
    }
   ],
   "source": [
    "#LINEAR SEARCH ALGORITHM\n",
    "arr=[4,2,7,1,9,3,5]\n",
    "target=7\n",
    "found=False\n",
    "for i in range(len(arr)):\n",
    "       if arr[i]==target:\n",
    "             print(f\"Element {target} found at index {i}\")\n",
    "             found=True\n",
    "             break\n",
    "else:\n",
    "    print(F\"Element {target} is not in array\") "
   ]
  },
  {
   "cell_type": "code",
   "execution_count": 28,
   "id": "50579150-49aa-414b-9a3d-5ab237044579",
   "metadata": {},
   "outputs": [
    {
     "name": "stdin",
     "output_type": "stream",
     "text": [
      "Enter number of elements: 5\n",
      " 10\n",
      " 20\n",
      " 30\n",
      " 40\n",
      " 50\n"
     ]
    },
    {
     "name": "stdout",
     "output_type": "stream",
     "text": [
      "List: [10, 20, 30, 40, 50]\n"
     ]
    },
    {
     "name": "stdin",
     "output_type": "stream",
     "text": [
      "Enter the target: 20\n"
     ]
    },
    {
     "name": "stdout",
     "output_type": "stream",
     "text": [
      "Element 20 found at index 1\n"
     ]
    }
   ],
   "source": [
    "#WITH USER INPUT \n",
    "lst=[]\n",
    "n=int(input(\"Enter number of elements:\"))\n",
    "for j in range(0, n):\n",
    "    element=int(input())\n",
    "    lst.append(element)\n",
    "print(\"List:\",lst)\n",
    "target=int(input(\"Enter the target:\"))\n",
    "found=False\n",
    "for i in range(len(lst)):\n",
    "    if lst[i]==target:\n",
    "        print(f\"Element {target} found at index {i}\")\n",
    "        found=True\n",
    "        break\n",
    "else:\n",
    "    print(F\"Element {target} is not in array\") "
   ]
  },
  {
   "cell_type": "code",
   "execution_count": 34,
   "id": "dc4b4099-73a5-4fed-8a4d-d07f8838b504",
   "metadata": {},
   "outputs": [
    {
     "name": "stdout",
     "output_type": "stream",
     "text": [
      "Element 2 is not in array\n"
     ]
    }
   ],
   "source": [
    "#BINARY SEARCH ALGORITHM\n",
    "arr=[1,3,5,7,9,11,13,15,17,19]\n",
    "low=0\n",
    "high=len(arr)-1\n",
    "target=2\n",
    "found=False\n",
    "while(low<=high):\n",
    "    mid=(low+high)//2\n",
    "    if arr[mid]==target:\n",
    "        print(f\"Element {target} is found at index {mid}\")\n",
    "        break\n",
    "    elif arr[mid]<target:\n",
    "        low=mid+1\n",
    "    else:\n",
    "        high=mid-1\n",
    "else:\n",
    "    print(f\"Element {target} is not in array\")"
   ]
  },
  {
   "cell_type": "code",
   "execution_count": null,
   "id": "22bdcf73-216c-499c-b53e-81d31628f2d9",
   "metadata": {},
   "outputs": [],
   "source": []
  }
 ],
 "metadata": {
  "kernelspec": {
   "display_name": "Python 3 (ipykernel)",
   "language": "python",
   "name": "python3"
  },
  "language_info": {
   "codemirror_mode": {
    "name": "ipython",
    "version": 3
   },
   "file_extension": ".py",
   "mimetype": "text/x-python",
   "name": "python",
   "nbconvert_exporter": "python",
   "pygments_lexer": "ipython3",
   "version": "3.12.7"
  }
 },
 "nbformat": 4,
 "nbformat_minor": 5
}
