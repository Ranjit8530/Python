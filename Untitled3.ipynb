{
 "cells": [
  {
   "cell_type": "code",
   "execution_count": 5,
   "id": "e5abeed1-d407-4ee6-9a9c-ae13d423ecb8",
   "metadata": {},
   "outputs": [
    {
     "name": "stdin",
     "output_type": "stream",
     "text": [
      "Enter a number: 5\n",
      "Enter another number: 10\n"
     ]
    },
    {
     "name": "stdout",
     "output_type": "stream",
     "text": [
      "10 is a greater number\n"
     ]
    }
   ],
   "source": [
    "#IF-ELSE STATEMENT\n",
    "a=int(input(\"Enter a number:\"))\n",
    "b=int(input(\"Enter another number:\"))\n",
    "if a>b:\n",
    "     print(a,\"is a greater number\")\n",
    "else:\n",
    "     print(b,\"is a greater number\") "
   ]
  },
  {
   "cell_type": "code",
   "execution_count": 7,
   "id": "0fe09b69-ceb2-46b4-a130-ab3480a5d53b",
   "metadata": {},
   "outputs": [
    {
     "name": "stdin",
     "output_type": "stream",
     "text": [
      "Enter your age: 16\n"
     ]
    },
    {
     "name": "stdout",
     "output_type": "stream",
     "text": [
      "You are not eligible to Vote\n",
      "There are 2 years left to be eligible to vote\n"
     ]
    }
   ],
   "source": [
    "#CHECK ELIGIBILITY\n",
    "a=int(input(\"Enter your age:\"))\n",
    "if a>18:\n",
    "       print(\"You are eligible to Vote\")\n",
    "else:\n",
    "       print(\"You are not eligible to Vote\")\n",
    "left=18-a\n",
    "print(f\"There are {left} years left to be eligible to vote\") "
   ]
  },
  {
   "cell_type": "code",
   "execution_count": 9,
   "id": "0211fecb-f01d-4002-be61-1bd98bd71be0",
   "metadata": {},
   "outputs": [
    {
     "name": "stdin",
     "output_type": "stream",
     "text": [
      "Enter 1st number 10\n",
      "Enter 2nd number 20\n",
      "Enter 3rd number 30\n"
     ]
    },
    {
     "name": "stdout",
     "output_type": "stream",
     "text": [
      "30 is the greatest number\n"
     ]
    }
   ],
   "source": [
    "#IF-ELIF-ELSE STATEMENT\n",
    "a = int(input(\"Enter 1st number\"))\n",
    "b = int(input(\"Enter 2nd number\"))\n",
    "c = int(input(\"Enter 3rd number\"))\n",
    "if a>b and a>c:\n",
    "             print(a,\"is the greatest number\")\n",
    "elif b>a and b>c:\n",
    "             print(b,\"is the greatest number\")\n",
    "else:\n",
    "             print(c,\"is the greatest number\") \n"
   ]
  },
  {
   "cell_type": "code",
   "execution_count": 15,
   "id": "995ecca0-a6fe-45cf-aef4-6ecc47402870",
   "metadata": {},
   "outputs": [
    {
     "name": "stdin",
     "output_type": "stream",
     "text": [
      "Enter a number: 15\n"
     ]
    },
    {
     "name": "stdout",
     "output_type": "stream",
     "text": [
      "15 ranges between 10 to 20\n"
     ]
    }
   ],
   "source": [
    "#COMPOUND STATEMENT\n",
    "a=int(input(\"Enter a number:\"))\n",
    "if a<=10:\n",
    "         print(a,\"ranges between 0 to 10\")\n",
    "if a>0 and a<=20:\n",
    "         print(a,\"ranges between 10 to 20\")\n",
    "if a>20 and a<=30:\n",
    "         print(a,\"ranges between 20 to 30\")\n",
    "if a>30:\n",
    "         print(a,\"ranges above 30\") \n"
   ]
  },
  {
   "cell_type": "code",
   "execution_count": 27,
   "id": "6512da47-3f26-4264-b086-fd2d31754657",
   "metadata": {},
   "outputs": [
    {
     "name": "stdin",
     "output_type": "stream",
     "text": [
      "Enter num1: 10\n",
      "Enter num2: 15\n",
      "Enter num3: 20\n"
     ]
    },
    {
     "name": "stdout",
     "output_type": "stream",
     "text": [
      "20 is the greatest\n"
     ]
    }
   ],
   "source": [
    "num1 = int(input(\"Enter num1:\"))\n",
    "num2 = int(input(\"Enter num2:\"))\n",
    "num3 = int(input(\"Enter num3:\"))\n",
    "\n",
    "if num1 >= num2:\n",
    "    if num1 >= num3:\n",
    "        print(num1, \"is the greatest\")\n",
    "    else:\n",
    "        print(num3, \"is the greatest\")\n",
    "elif num2 >= num3:\n",
    "    print(num2, \"is the greatest\")\n",
    "else:\n",
    "    print(num3, \"is the greatest\")\n"
   ]
  },
  {
   "cell_type": "code",
   "execution_count": 31,
   "id": "f99d4c25-dbc7-4a33-8b1f-b8a6cd08a7c0",
   "metadata": {},
   "outputs": [
    {
     "name": "stdout",
     "output_type": "stream",
     "text": [
      "0\n",
      "1\n",
      "2\n",
      "3\n",
      "4\n",
      "5\n",
      "6\n",
      "7\n",
      "8\n",
      "9\n",
      "10\n"
     ]
    }
   ],
   "source": [
    "#WHILE LOOP\n",
    "i=0\n",
    "while(i<=10):\n",
    "    print(i)\n",
    "    i+=1 \n"
   ]
  },
  {
   "cell_type": "code",
   "execution_count": null,
   "id": "26e47db4-e53d-4031-9be1-939e940b5a81",
   "metadata": {},
   "outputs": [],
   "source": []
  }
 ],
 "metadata": {
  "kernelspec": {
   "display_name": "Python 3 (ipykernel)",
   "language": "python",
   "name": "python3"
  },
  "language_info": {
   "codemirror_mode": {
    "name": "ipython",
    "version": 3
   },
   "file_extension": ".py",
   "mimetype": "text/x-python",
   "name": "python",
   "nbconvert_exporter": "python",
   "pygments_lexer": "ipython3",
   "version": "3.12.7"
  }
 },
 "nbformat": 4,
 "nbformat_minor": 5
}
