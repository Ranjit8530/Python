{
 "cells": [
  {
   "cell_type": "code",
   "execution_count": 17,
   "id": "b0093132-8210-4486-8b35-d1d458cfab8a",
   "metadata": {},
   "outputs": [
    {
     "name": "stdout",
     "output_type": "stream",
     "text": [
      "SLICING FUNCTIONS\n",
      "Welcome to Python Club!\n",
      "lcome t\n",
      "Welco\n",
      "me to Python Club!\n",
      "Wloet yhnCu!\n",
      "!\n"
     ]
    }
   ],
   "source": [
    "print(\"SLICING FUNCTIONS\")\n",
    "str=\"Welcome to Python Club!\"\n",
    "print(str[:])\n",
    "print(str[2:9])\n",
    "print(str[:5])\n",
    "print(str[5:])\n",
    "print(str[::2])\n",
    "print(str[-1]) "
   ]
  },
  {
   "cell_type": "code",
   "execution_count": 25,
   "id": "0e282b4d-1431-43c7-af94-c52fe2c84f8e",
   "metadata": {},
   "outputs": [
    {
     "name": "stdout",
     "output_type": "stream",
     "text": [
      "TUPLE\n",
      "('a', 'bc', 78, 1.23)\n",
      "('d', 45)\n",
      "a\n",
      "('bc', 78)\n",
      "('a', 'bc', 78, 1.23, 'd', 45)\n"
     ]
    }
   ],
   "source": [
    "print (\"TUPLE\")\n",
    "tup1=('a','bc',78,1.23)\n",
    "tup2=('d',45)\n",
    "print(tup1)\n",
    "print(tup2)\n",
    "print(tup1[0])\n",
    "print(tup1[1:3])\n",
    "print(tup1+tup2) "
   ]
  },
  {
   "cell_type": "code",
   "execution_count": 33,
   "id": "b5c552da-d811-46ff-9be7-b7b97959e9af",
   "metadata": {},
   "outputs": [
    {
     "name": "stdout",
     "output_type": "stream",
     "text": [
      "LIST\n",
      "['a', 'b', 'c', 32, 45]\n",
      "['d', 4.5, 'ee']\n",
      "['a', 'b', 'c', 32, 45, 'a', 'b', 'c', 32, 45]\n",
      "4.5\n",
      "Lenght of list\n",
      "5\n",
      "Concatenation in list\n",
      "['a', 'b', 'c', 32, 45, 'd', 4.5, 'ee']\n",
      "Updating list\n",
      "['d', 100, 'ee']\n",
      "Appending the list\n",
      "['d', 100, 'ee', 50]\n",
      "Deletion in list\n",
      "['a', 'b', 32, 45, 'd', 4.5, 'ee']\n",
      "Cloning list\n",
      "['a', 'b', 'c', 32, 45]\n"
     ]
    }
   ],
   "source": [
    "print(\"LIST\")\n",
    "list1=['a','b','c',32,45]\n",
    "list2=['d',4.5,'ee']\n",
    "print(list1)\n",
    "print(list2)\n",
    "print(list1*2)\n",
    "print(list2[1])\n",
    "print(\"Lenght of list\")\n",
    "print(len(list1))\n",
    "print(\"Concatenation in list\")\n",
    "list3=list1+list2\n",
    "print(list3)\n",
    "print(\"Updating list\")\n",
    "list2[1]=100\n",
    "print(list2)\n",
    "print(\"Appending the list\")\n",
    "list2.append(50)\n",
    "print(list2)\n",
    "print(\"Deletion in list\")\n",
    "del list3[2]\n",
    "print(list3)\n",
    "print(\"Cloning list\")\n",
    "list4=list1\n",
    "print(list4) \n"
   ]
  },
  {
   "cell_type": "code",
   "execution_count": 39,
   "id": "d4ff6128-4b44-47bd-9740-9a9bade39d1c",
   "metadata": {},
   "outputs": [
    {
     "name": "stdout",
     "output_type": "stream",
     "text": [
      "DICTIONARY\n",
      "{'a': 'Apple', 'b': 'Banana', 'c': 56, 'd': 88}\n",
      "Apple\n",
      "Banana\n"
     ]
    }
   ],
   "source": [
    "print (\"DICTIONARY\")\n",
    "dict1={'a':\"Apple\", 'b':\"Banana\", 'c':56,'d':88}\n",
    "print(dict1)\n",
    "print(dict1['a'])\n",
    "print(dict1['b']) \n"
   ]
  },
  {
   "cell_type": "code",
   "execution_count": 47,
   "id": "e7ba8507-f051-405e-96d7-e5e329f1375f",
   "metadata": {},
   "outputs": [
    {
     "name": "stdout",
     "output_type": "stream",
     "text": [
      "HERON's FORMULA\n"
     ]
    },
    {
     "name": "stdin",
     "output_type": "stream",
     "text": [
      "Enter the 1st side of triangle: 5\n",
      "Enter the 2nd side of triangle: 6\n",
      "Enter the 3rd side of triangle: 7\n"
     ]
    },
    {
     "name": "stdout",
     "output_type": "stream",
     "text": [
      "s= 9.0\n",
      "Area of Triangle is  14.696938456699069\n"
     ]
    }
   ],
   "source": [
    "print(\"HERON's FORMULA\")\n",
    "a=float(input(\"Enter the 1st side of triangle:\"))\n",
    "b=float(input(\"Enter the 2nd side of triangle:\"))\n",
    "c=float(input(\"Enter the 3rd side of triangle:\"))\n",
    "s=(a+b+c)/2\n",
    "print(\"s=\",s)\n",
    "area=(s*(s-a)*(s-b)*(s-c))**0.5\n",
    "print(\"Area of Triangle is \",area) \n"
   ]
  },
  {
   "cell_type": "code",
   "execution_count": 55,
   "id": "943efe32-3afc-49a8-b11a-6ef162730d9e",
   "metadata": {},
   "outputs": [
    {
     "name": "stdout",
     "output_type": "stream",
     "text": [
      "EUCLIDEAN FORMULA\n"
     ]
    },
    {
     "name": "stdin",
     "output_type": "stream",
     "text": [
      "Enter the ponti for x: 5\n",
      "Enter the pont2 for x: 10\n",
      "Enter the ponti for y: 15\n",
      "Enter the pont2 for y: 30\n"
     ]
    },
    {
     "name": "stdout",
     "output_type": "stream",
     "text": [
      "Distance between two points is  15.811388300841896\n"
     ]
    }
   ],
   "source": [
    "print(\"EUCLIDEAN FORMULA\")\n",
    "x1=float(input(\"Enter the ponti for x:\"))\n",
    "x2=float(input(\"Enter the pont2 for x:\"))\n",
    "y1=float(input(\"Enter the ponti for y:\"))\n",
    "y2=float(input(\"Enter the pont2 for y:\"))\n",
    "distance=(((x2-x1)**2)+((y2-y1)**2) )**0.5\n",
    "print(\"Distance between two points is \",distance) "
   ]
  },
  {
   "cell_type": "code",
   "execution_count": 57,
   "id": "227d4a31-d7a9-4411-84e2-1be8060499be",
   "metadata": {},
   "outputs": [
    {
     "name": "stdout",
     "output_type": "stream",
     "text": [
      "AREA OF CIRCLE\n"
     ]
    },
    {
     "name": "stdin",
     "output_type": "stream",
     "text": [
      "Enter radius of circle:  5\n"
     ]
    },
    {
     "name": "stdout",
     "output_type": "stream",
     "text": [
      "Area of circle is  78.5\n"
     ]
    }
   ],
   "source": [
    "print(\"AREA OF CIRCLE\")\n",
    "r=int(input(\"Enter radius of circle: \"))\n",
    "area=3.14*(r**2)\n",
    "print(\"Area of circle is \",area)"
   ]
  },
  {
   "cell_type": "code",
   "execution_count": 59,
   "id": "aa022811-3b46-4859-a52c-ca13363db429",
   "metadata": {},
   "outputs": [
    {
     "name": "stdout",
     "output_type": "stream",
     "text": [
      "TO FIND ONE's PLACE OF A DIGIT\n"
     ]
    },
    {
     "name": "stdin",
     "output_type": "stream",
     "text": [
      "Enter a number:  4565\n"
     ]
    },
    {
     "name": "stdout",
     "output_type": "stream",
     "text": [
      "One's place digit is  5\n"
     ]
    }
   ],
   "source": [
    "print(\"TO FIND ONE's PLACE OF A DIGIT\")\n",
    "num=int(input(\"Enter a number: \"))\n",
    "digit=num%10\n",
    "print(\"One's place digit is \",digit) "
   ]
  },
  {
   "cell_type": "code",
   "execution_count": 63,
   "id": "6b01ccd8-3951-433b-b4d8-e56c1946d4f6",
   "metadata": {},
   "outputs": [
    {
     "name": "stdout",
     "output_type": "stream",
     "text": [
      "ASCII values of any character\n"
     ]
    },
    {
     "name": "stdin",
     "output_type": "stream",
     "text": [
      "Enter any character:  a\n"
     ]
    },
    {
     "name": "stdout",
     "output_type": "stream",
     "text": [
      "ASCII value is  97\n"
     ]
    }
   ],
   "source": [
    "print(\"ASCII values of any character\")\n",
    "a=input(\"Enter any character: \")\n",
    "print(\"ASCII value is \",ord(a)) \n"
   ]
  },
  {
   "cell_type": "code",
   "execution_count": null,
   "id": "a87a2e5a-9a30-42ac-ad4f-52d5b2b5ec4a",
   "metadata": {},
   "outputs": [],
   "source": []
  }
 ],
 "metadata": {
  "kernelspec": {
   "display_name": "Python 3 (ipykernel)",
   "language": "python",
   "name": "python3"
  },
  "language_info": {
   "codemirror_mode": {
    "name": "ipython",
    "version": 3
   },
   "file_extension": ".py",
   "mimetype": "text/x-python",
   "name": "python",
   "nbconvert_exporter": "python",
   "pygments_lexer": "ipython3",
   "version": "3.12.7"
  }
 },
 "nbformat": 4,
 "nbformat_minor": 5
}
