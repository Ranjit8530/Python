{
 "cells": [
  {
   "cell_type": "code",
   "execution_count": 3,
   "id": "9a7546b6-83ee-4b1e-9fcb-17e6ab87974d",
   "metadata": {},
   "outputs": [
    {
     "name": "stdout",
     "output_type": "stream",
     "text": [
      "Numbers divisible by 2 are:\n",
      "[2, 4, 6, 8, 10, 12, 14, 16, 18, 20, 22, 24, 26, 28, 30, 32, 34, 36, 38, 40, 42, 44, 46, 48, 50, 52, 54, 56, 58, 60, 62, 64, 66, 68, 70, 72, 74, 76, 78, 80, 82, 84, 86, 88, 90, 92, 94, 96, 98, 100] \n",
      "\n",
      "Numbers divisible by 2 are:\n",
      "[3, 6, 9, 12, 15, 18, 21, 24, 27, 30, 33, 36, 39, 42, 45, 48, 51, 54, 57, 60, 63, 66, 69, 72, 75, 78, 81, 84, 87, 90, 93, 96, 99]\n"
     ]
    }
   ],
   "source": [
    "#LIST COMPREHENSION\n",
    "num=[num for num in range(1,101) if num%2==0]\n",
    "print(\"Numbers divisible by 2 are:\")\n",
    "print(num, \"\\n\")\n",
    "num=[num for num in range(1,101) if num%3==0]\n",
    "print(\"Numbers divisible by 2 are:\")\n",
    "print(num) "
   ]
  },
  {
   "cell_type": "code",
   "execution_count": 7,
   "id": "e15d7477-1e18-4300-be71-460be2dac8af",
   "metadata": {},
   "outputs": [
    {
     "name": "stdout",
     "output_type": "stream",
     "text": [
      "[100, 99, 98, 97, 96, 95, 94, 93, 92, 91, 90, 89, 88, 87, 86, 85, 84, 83, 82, 81, 80, 79, 78, 77, 76, 75, 74, 73, 72, 71, 70, 69, 68, 67, 66, 65, 64, 63, 62, 61, 60, 59, 58, 57, 56, 55, 54, 53, 52, 51, 50, 49, 48, 47, 46, 45, 44, 43, 42, 41, 40, 39, 38, 37, 36, 35, 34, 33, 32, 31, 30, 29, 28, 27, 26, 25, 24, 23, 22, 21, 20, 19, 18, 17, 16, 15, 14, 13, 12, 11, 10, 9, 8, 7, 6, 5, 4, 3, 2, 1] \n",
      "\n",
      "Numbers divisible by 7 are:\n",
      "[98, 91, 84, 77, 70, 63, 56, 49, 42, 35, 28, 21, 14, 7]\n"
     ]
    }
   ],
   "source": [
    "#Reverse LIST\n",
    "num=[num for num in range(100,0,-1)]\n",
    "print(num, \"\\n\")\n",
    "num=[num for num in range(100,0,-1) if num%7==0]\n",
    "print(\"Numbers divisible by 7 are:\")\n",
    "print(num) "
   ]
  },
  {
   "cell_type": "code",
   "execution_count": 11,
   "id": "bef47cf2-9f40-4add-abf2-083abce45a6d",
   "metadata": {},
   "outputs": [
    {
     "name": "stdout",
     "output_type": "stream",
     "text": [
      "Squares of even numbers are:\n",
      "[0, 4, 16, 36, 64, 100]\n"
     ]
    }
   ],
   "source": [
    "square=[square*square for square in range(0,11) if square%2==0]\n",
    "print(\"Squares of even numbers are:\")\n",
    "print(square) \n"
   ]
  },
  {
   "cell_type": "code",
   "execution_count": 22,
   "id": "3dccf2a3-0024-4216-a6c0-25f7880eb3f8",
   "metadata": {},
   "outputs": [
    {
     "name": "stdin",
     "output_type": "stream",
     "text": [
      "Enter number of keys 5\n"
     ]
    },
    {
     "name": "stdout",
     "output_type": "stream",
     "text": [
      "Keys are:\n"
     ]
    },
    {
     "name": "stdin",
     "output_type": "stream",
     "text": [
      " 1\n",
      " 2\n",
      " 3\n",
      " 4\n",
      " 5\n"
     ]
    },
    {
     "name": "stdout",
     "output_type": "stream",
     "text": [
      "{0: 0, 1: 1, 2: 4, 3: 9, 4: 16}\n"
     ]
    }
   ],
   "source": [
    "##### CREATE A DICTIONARY OF SQUARES\n",
    "n=int(input(\"Enter number of keys\"))\n",
    "print(\"Keys are:\")\n",
    "keys=[int(input()) for keys in range(n)]\n",
    "dictl={keys:keys**2 for keys in range(len(keys))}\n",
    "print(dictl) \n"
   ]
  },
  {
   "cell_type": "code",
   "execution_count": 13,
   "id": "e8b801af-cc36-45e9-8b84-2c420fc801ea",
   "metadata": {
    "scrolled": true
   },
   "outputs": [
    {
     "name": "stdin",
     "output_type": "stream",
     "text": [
      "Enter number of keys 4\n"
     ]
    },
    {
     "name": "stdout",
     "output_type": "stream",
     "text": [
      "Keys are:\n"
     ]
    },
    {
     "name": "stdin",
     "output_type": "stream",
     "text": [
      " a\n",
      " b\n",
      " c\n",
      " d\n"
     ]
    },
    {
     "name": "stdout",
     "output_type": "stream",
     "text": [
      "values are:\n"
     ]
    },
    {
     "name": "stdin",
     "output_type": "stream",
     "text": [
      " 10\n",
      " 20\n",
      " 30\n",
      " 40\n"
     ]
    },
    {
     "name": "stdout",
     "output_type": "stream",
     "text": [
      "{'a': 10, 'b': 20, 'c': 30, 'd': 40}\n"
     ]
    }
   ],
   "source": [
    "#CREATE A DICTIONARY\n",
    "n=int(input(\"Enter number of keys\"))\n",
    "print(\"Keys are:\")\n",
    "keys=[input() for keys in range(n)]\n",
    "print(\"values are:\")\n",
    "values=[int(input()) for values in range(n)]\n",
    "dictl={keys[i]:values[i] for i in range(n)}\n",
    "print(dictl) "
   ]
  },
  {
   "cell_type": "code",
   "execution_count": 52,
   "id": "63bc5b1d-3f43-4daa-8745-caaa0bf733bc",
   "metadata": {},
   "outputs": [
    {
     "name": "stdout",
     "output_type": "stream",
     "text": [
      "Developers having Python are:\n",
      "{'Jane': 'Python', 'John': 'Python'}\n"
     ]
    }
   ],
   "source": [
    "#CREATE A DICTIONARY OF DEVELOPERS\n",
    "developers={'Jane': 'Python', 'Jade': 'Javascript', 'John': 'Python', 'Doe' : 'C++'}\n",
    "print(\"Developers having Python are:\")\n",
    "dict2={key:developers[key] for key in developers if developers[key]=='Python'}\n",
    "print(dict2) \n"
   ]
  },
  {
   "cell_type": "code",
   "execution_count": null,
   "id": "a38a2f3f-fccb-4fb2-9aa4-b417cde12a80",
   "metadata": {},
   "outputs": [],
   "source": []
  },
  {
   "cell_type": "code",
   "execution_count": null,
   "id": "4443fd8e-1e10-43a3-8215-460ab0b6cfb9",
   "metadata": {},
   "outputs": [],
   "source": []
  }
 ],
 "metadata": {
  "kernelspec": {
   "display_name": "Python 3 (ipykernel)",
   "language": "python",
   "name": "python3"
  },
  "language_info": {
   "codemirror_mode": {
    "name": "ipython",
    "version": 3
   },
   "file_extension": ".py",
   "mimetype": "text/x-python",
   "name": "python",
   "nbconvert_exporter": "python",
   "pygments_lexer": "ipython3",
   "version": "3.12.7"
  }
 },
 "nbformat": 4,
 "nbformat_minor": 5
}
