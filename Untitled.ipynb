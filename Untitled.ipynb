{
 "cells": [
  {
   "cell_type": "code",
   "execution_count": 5,
   "id": "80fe72d9-a764-4a13-819b-9624725ca4ab",
   "metadata": {},
   "outputs": [
    {
     "name": "stdout",
     "output_type": "stream",
     "text": [
      "Hello World\n"
     ]
    }
   ],
   "source": [
    "print(\"Hello World\")"
   ]
  },
  {
   "cell_type": "code",
   "execution_count": null,
   "id": "80bf7d60-ebe6-425e-9327-c1efc13c4a79",
   "metadata": {},
   "outputs": [],
   "source": [
    "print(\"Arithmetic Operations”) #This is a comment Line\n",
    "a=int(input(\"Enter a value for a:\"))\n",
    "b=int(input(\"Enter a value for b:\"))\n",
    "print(\"Sum is \",a+b)\n",
    "print(\"Subtraction is \",a-b)\n",
    "print(\"Multiplication is \",a*b)\n",
    "print(\"Division is \",a/b)\n",
    "print(\"Modulus is \",a%b)\n",
    "print(\"Floor division is \",a//b) \n"
   ]
  },
  {
   "cell_type": "code",
   "execution_count": 21,
   "id": "61c7a73b-8821-4401-b437-3fb27e8a2dec",
   "metadata": {},
   "outputs": [
    {
     "name": "stdout",
     "output_type": "stream",
     "text": [
      "Concatanation Operation\n"
     ]
    },
    {
     "name": "stdin",
     "output_type": "stream",
     "text": [
      "Enter a word: Hello \n",
      "Enter another word: World\n"
     ]
    },
    {
     "name": "stdout",
     "output_type": "stream",
     "text": [
      "Hello World\n"
     ]
    }
   ],
   "source": [
    "print(\"Concatanation Operation\")\n",
    "x=input(\"Enter a word:\")\n",
    "y=input(\"Enter another word:\")\n",
    "print(x+y) "
   ]
  },
  {
   "cell_type": "code",
   "execution_count": 17,
   "id": "e18e8651-90f0-4c5a-ad10-3ccad6d44d38",
   "metadata": {},
   "outputs": [
    {
     "name": "stdout",
     "output_type": "stream",
     "text": [
      "Comparison Operations\n"
     ]
    },
    {
     "name": "stdin",
     "output_type": "stream",
     "text": [
      "Enter a number: 40\n",
      "Enter another number: 50\n"
     ]
    },
    {
     "name": "stdout",
     "output_type": "stream",
     "text": [
      "False\n",
      "True\n",
      "False\n",
      "False\n",
      "True\n",
      "True\n"
     ]
    }
   ],
   "source": [
    "print(\"Comparison Operations\")\n",
    "p=int(input(\"Enter a number:\"))\n",
    "q=int(input(\"Enter another number:\"))\n",
    "print(p==q)\n",
    "print(p!=q)\n",
    "print(p>q) \n",
    "print(p>=q) \n",
    "print(p<q)\n",
    "print(p<=q) "
   ]
  },
  {
   "cell_type": "code",
   "execution_count": 11,
   "id": "05520120-f00d-475c-995f-7d9d49ab3418",
   "metadata": {},
   "outputs": [
    {
     "name": "stdout",
     "output_type": "stream",
     "text": [
      "Shortcut Operations\n"
     ]
    },
    {
     "name": "stdin",
     "output_type": "stream",
     "text": [
      "Enter a value: 50\n",
      "Enter another number: 40\n"
     ]
    },
    {
     "name": "stdout",
     "output_type": "stream",
     "text": [
      "90\n",
      "50\n",
      "2000\n",
      "2000\n",
      "0\n",
      "0\n"
     ]
    }
   ],
   "source": [
    "print(\"Shortcut Operations\")\n",
    "a=int(input(\"Enter a value:\"))\n",
    "b=int(input(\"Enter another number:\"))\n",
    "a+=b\n",
    "print(a)\n",
    "a-=b\n",
    "print(a)\n",
    "a*=b\n",
    "print(a)\n",
    "a/-b\n",
    "print(a)\n",
    "a%=b\n",
    "print(a)\n",
    "a//=b\n",
    "print(a) \n"
   ]
  },
  {
   "cell_type": "code",
   "execution_count": null,
   "id": "3d5d0299-76fe-43a8-85ff-618b1612e267",
   "metadata": {},
   "outputs": [],
   "source": []
  }
 ],
 "metadata": {
  "kernelspec": {
   "display_name": "Python 3 (ipykernel)",
   "language": "python",
   "name": "python3"
  },
  "language_info": {
   "codemirror_mode": {
    "name": "ipython",
    "version": 3
   },
   "file_extension": ".py",
   "mimetype": "text/x-python",
   "name": "python",
   "nbconvert_exporter": "python",
   "pygments_lexer": "ipython3",
   "version": "3.12.7"
  }
 },
 "nbformat": 4,
 "nbformat_minor": 5
}
