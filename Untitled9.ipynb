{
 "cells": [
  {
   "cell_type": "code",
   "execution_count": 1,
   "id": "4b8209c8-18dc-4e16-8514-8b016b859414",
   "metadata": {},
   "outputs": [
    {
     "name": "stdout",
     "output_type": "stream",
     "text": [
      "pcu pune\n",
      "pcu pune\n",
      "pcu pune\n",
      "pcu pune\n",
      "pcu pune\n",
      "pcu pune\n",
      "pcu pune\n",
      "pcu pune\n",
      "pcu pune\n",
      "pcu pune\n",
      "\n"
     ]
    }
   ],
   "source": [
    "f1 = open('pcu898991.txt', 'w')\n",
    "for x in range(10):\n",
    "    f1.write(\"pcu pune\\n\")\n",
    "f1.close()\n",
    "\n",
    "f1 = open('pcu898991.txt', 'r')\n",
    "content = f1.read()\n",
    "print(content)\n"
   ]
  },
  {
   "cell_type": "code",
   "execution_count": 3,
   "id": "06f9a50a-01b7-42f7-a716-240dd7cab5d0",
   "metadata": {},
   "outputs": [
    {
     "name": "stdout",
     "output_type": "stream",
     "text": [
      "hello\n",
      "world\n",
      "pcu\n",
      "maval\n",
      "pune\n",
      "maharashtra\n",
      "india\n",
      "asia\n",
      "state\n",
      "vadgoan\n",
      "\n"
     ]
    }
   ],
   "source": [
    "f = open(\"pcul@991.txt\", \"w\")\n",
    "f.write(\"hello\\n\")\n",
    "f.write(\"world\\n\")\n",
    "f.write(\"pcu\\n\")\n",
    "f.write(\"maval\\n\")\n",
    "f.write(\"pune\\n\")\n",
    "f.write(\"maharashtra\\n\")\n",
    "f.write(\"india\\n\")\n",
    "f.write(\"asia\\n\")\n",
    "f.write(\"state\\n\")\n",
    "f.write(\"vadgoan\\n\")\n",
    "f.close()\n",
    "\n",
    "f = open(\"pcul@991.txt\", \"r\")\n",
    "content = f.read()\n",
    "print(content)\n"
   ]
  },
  {
   "cell_type": "code",
   "execution_count": 5,
   "id": "e1fc1fb1-a1cb-4e19-b338-7723b7b2a8bc",
   "metadata": {},
   "outputs": [
    {
     "name": "stdout",
     "output_type": "stream",
     "text": [
      "Division by zero occurred!\n",
      "The result is: 3.0\n"
     ]
    }
   ],
   "source": [
    "def aby(a, b):\n",
    "    try:\n",
    "        c = (a + b) / (a - b)\n",
    "    except ZeroDivisionError:\n",
    "        print(\"Division by zero occurred!\")\n",
    "    else:\n",
    "        print(\"The result is:\", c)\n",
    "\n",
    "aby(1, 1)\n",
    "aby(4, 2)\n"
   ]
  },
  {
   "cell_type": "code",
   "execution_count": null,
   "id": "ccea4602-261a-4f4d-8963-06bfd5284ef3",
   "metadata": {},
   "outputs": [],
   "source": []
  }
 ],
 "metadata": {
  "kernelspec": {
   "display_name": "Python 3 (ipykernel)",
   "language": "python",
   "name": "python3"
  },
  "language_info": {
   "codemirror_mode": {
    "name": "ipython",
    "version": 3
   },
   "file_extension": ".py",
   "mimetype": "text/x-python",
   "name": "python",
   "nbconvert_exporter": "python",
   "pygments_lexer": "ipython3",
   "version": "3.12.7"
  }
 },
 "nbformat": 4,
 "nbformat_minor": 5
}
