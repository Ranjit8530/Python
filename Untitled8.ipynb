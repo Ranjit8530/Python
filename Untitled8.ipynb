{
 "cells": [
  {
   "cell_type": "code",
   "execution_count": 1,
   "id": "c389a200-ae55-4ea2-b185-25a82e42f973",
   "metadata": {},
   "outputs": [
    {
     "name": "stdout",
     "output_type": "stream",
     "text": [
      "wild animal makes a sound\n",
      "Buddy barks\n"
     ]
    }
   ],
   "source": [
    "class Animal:  # Parent class\n",
    "    def __init__(self, name):\n",
    "        self.name = name\n",
    "\n",
    "    def speak(self):\n",
    "        print(f\"{self.name} makes a sound\")\n",
    "\n",
    "class Dog(Animal):\n",
    "    def speak(self):\n",
    "        print(f\"{self.name} barks\")\n",
    "\n",
    "a = Animal(\"wild animal\")\n",
    "a.speak()\n",
    "d = Dog(\"Buddy\")\n",
    "d.speak()\n"
   ]
  },
  {
   "cell_type": "code",
   "execution_count": 3,
   "id": "775f019b-4c0a-4f55-9eff-6cf0ca37bb9c",
   "metadata": {},
   "outputs": [
    {
     "name": "stdout",
     "output_type": "stream",
     "text": [
      "Bat makes a sound\n",
      "Bat sleeps\n",
      "Bird flies\n"
     ]
    }
   ],
   "source": [
    "class Bird:\n",
    "    def fly(self):\n",
    "        print(\"Bird flies\")\n",
    "\n",
    "class Bat(Animal, Bird):\n",
    "    def sleep(self):\n",
    "        print(\"Bat sleeps\")\n",
    "\n",
    "bat = Bat(\"Bat\")\n",
    "bat.speak()\n",
    "bat.sleep()\n",
    "bat.fly()\n"
   ]
  },
  {
   "cell_type": "code",
   "execution_count": 5,
   "id": "8e20bcb0-9ccc-44eb-bfc1-f9578939cde3",
   "metadata": {},
   "outputs": [
    {
     "name": "stdout",
     "output_type": "stream",
     "text": [
      "Area: 1794\n",
      "Area: 24871.940000000002\n"
     ]
    }
   ],
   "source": [
    "class Rectangle:\n",
    "    def __init__(self, length, breadth):\n",
    "        self.length = length\n",
    "        self.breadth = breadth\n",
    "\n",
    "    def area(self):\n",
    "        return self.length * self.breadth\n",
    "\n",
    "class Circle:\n",
    "    def __init__(self, radius):\n",
    "        self.radius = radius\n",
    "\n",
    "    def area(self):\n",
    "        return self.radius**2 * 3.14\n",
    "\n",
    "def print_area(shape):\n",
    "    print(f\"Area: {shape.area()}\")\n",
    "\n",
    "# Create instances\n",
    "rectangle = Rectangle(23, 78)\n",
    "circle = Circle(89)\n",
    "\n",
    "# Print areas\n",
    "print_area(rectangle)\n",
    "print_area(circle)\n"
   ]
  },
  {
   "cell_type": "code",
   "execution_count": 7,
   "id": "d107f3ff-8d17-48fe-bff4-515fcc593650",
   "metadata": {},
   "outputs": [
    {
     "name": "stdout",
     "output_type": "stream",
     "text": [
      "hello\n",
      "world\n",
      "\n",
      "hello\n",
      "world\n",
      "appended text\n",
      "\n"
     ]
    }
   ],
   "source": [
    "# Write and read example\n",
    "f = open(\"example.txt\", \"w\")\n",
    "f.write(\"hello\\n\")\n",
    "f.write(\"world\\n\")\n",
    "f.close()\n",
    "\n",
    "f = open(\"example.txt\", \"r\")\n",
    "content = f.read()\n",
    "print(content)\n",
    "\n",
    "# Append mode\n",
    "f2 = open(\"example.txt\", \"a\")\n",
    "f2.write(\"appended text\\n\")\n",
    "f2.close()\n",
    "\n",
    "f = open(\"example.txt\", \"r\")\n",
    "content = f.read()\n",
    "print(content)\n"
   ]
  },
  {
   "cell_type": "code",
   "execution_count": null,
   "id": "40811b59-67fb-491d-9dd9-f6078fe42e8c",
   "metadata": {},
   "outputs": [],
   "source": []
  }
 ],
 "metadata": {
  "kernelspec": {
   "display_name": "Python 3 (ipykernel)",
   "language": "python",
   "name": "python3"
  },
  "language_info": {
   "codemirror_mode": {
    "name": "ipython",
    "version": 3
   },
   "file_extension": ".py",
   "mimetype": "text/x-python",
   "name": "python",
   "nbconvert_exporter": "python",
   "pygments_lexer": "ipython3",
   "version": "3.12.7"
  }
 },
 "nbformat": 4,
 "nbformat_minor": 5
}
